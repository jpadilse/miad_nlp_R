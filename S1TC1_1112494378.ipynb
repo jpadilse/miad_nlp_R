{
 "cells": [
  {
   "cell_type": "markdown",
   "metadata": {},
   "source": [
    "![image info](https://raw.githubusercontent.com/albahnsen/MIAD_ML_and_NLP/main/images/banner_1.png)"
   ]
  },
  {
   "cell_type": "markdown",
   "metadata": {},
   "source": [
    "# Taller: Construcción e implementación de árboles de decisión y métodos de ensamblaje\n",
    "\n",
    "En este taller podrá poner en práctica los sus conocimientos sobre construcción e implementación de árboles de decisión y métodos de ensamblajes. El taller está constituido por 9 puntos, 5 relacionados con árboles de decisión (parte A) y 4 con métodos de ensamblaje (parte B)."
   ]
  },
  {
   "cell_type": "markdown",
   "metadata": {},
   "source": [
    "## Parte A - Árboles de decisión\n",
    "\n",
    "En esta parte del taller se usará el conjunto de datos de Capital Bikeshare de Kaggle, donde cada observación representa el alquiler de bicicletas durante una hora y día determinado. Para más detalles puede visitar los siguientes enlaces: [datos](https://archive.ics.uci.edu/ml/machine-learning-databases/00275/Bike-Sharing-Dataset.zip), [dicccionario de datos](https://archive.ics.uci.edu/ml/datasets/Bike+Sharing+Dataset#)."
   ]
  },
  {
   "cell_type": "markdown",
   "metadata": {},
   "source": [
    "### Datos prestamo de bicicletas"
   ]
  },
  {
   "cell_type": "code",
   "execution_count": 62,
   "metadata": {
    "ExecuteTime": {
     "end_time": "2024-04-08T08:08:11.729059Z",
     "start_time": "2024-04-08T08:08:11.723424Z"
    }
   },
   "outputs": [],
   "source": [
    "import warnings\n",
    "warnings.filterwarnings('ignore')"
   ]
  },
  {
   "cell_type": "code",
   "execution_count": 74,
   "metadata": {
    "ExecuteTime": {
     "end_time": "2024-04-08T08:25:17.012231Z",
     "start_time": "2024-04-08T08:25:16.993714Z"
    }
   },
   "outputs": [],
   "source": [
    "# Importación de librerías\n",
    "import matplotlib.pyplot as plt\n",
    "import pandas as pd\n",
    "import numpy as np\n",
    "from sklearn.model_selection import cross_val_score\n",
    "\n",
    "import sklearn.model_selection as skm\n",
    "\n",
    "from sklearn.tree import (\n",
    "    DecisionTreeRegressor as DTR,\n",
    "    DecisionTreeClassifier as DTC\n",
    ")\n",
    "from sklearn.ensemble import (\n",
    "    BaggingClassifier as BC,\n",
    "    VotingClassifier as VC\n",
    ")\n",
    "from sklearn.metrics import (\n",
    "    mean_squared_error,\n",
    "    accuracy_score,\n",
    "    f1_score\n",
    ")\n",
    "from sklearn.linear_model import (\n",
    "    LinearRegression as LIR,\n",
    "    LogisticRegression as LR\n",
    ")\n",
    "from sklearn.preprocessing import OneHotEncoder\n",
    "from sklearn.compose import ColumnTransformer\n",
    "from sklearn.pipeline import Pipeline"
   ]
  },
  {
   "cell_type": "code",
   "execution_count": 64,
   "metadata": {
    "ExecuteTime": {
     "end_time": "2024-04-08T08:08:12.729082Z",
     "start_time": "2024-04-08T08:08:12.708706Z"
    }
   },
   "outputs": [
    {
     "data": {
      "text/plain": "                     season  holiday  workingday  weather  temp   atemp  \\\ndatetime                                                                  \n2011-01-01 00:00:00       1        0           0        1  9.84  14.395   \n2011-01-01 01:00:00       1        0           0        1  9.02  13.635   \n2011-01-01 02:00:00       1        0           0        1  9.02  13.635   \n2011-01-01 03:00:00       1        0           0        1  9.84  14.395   \n2011-01-01 04:00:00       1        0           0        1  9.84  14.395   \n\n                     humidity  windspeed  casual  registered  total  hour  \ndatetime                                                                   \n2011-01-01 00:00:00        81        0.0       3          13     16     0  \n2011-01-01 01:00:00        80        0.0       8          32     40     1  \n2011-01-01 02:00:00        80        0.0       5          27     32     2  \n2011-01-01 03:00:00        75        0.0       3          10     13     3  \n2011-01-01 04:00:00        75        0.0       0           1      1     4  ",
      "text/html": "<div>\n<style scoped>\n    .dataframe tbody tr th:only-of-type {\n        vertical-align: middle;\n    }\n\n    .dataframe tbody tr th {\n        vertical-align: top;\n    }\n\n    .dataframe thead th {\n        text-align: right;\n    }\n</style>\n<table border=\"1\" class=\"dataframe\">\n  <thead>\n    <tr style=\"text-align: right;\">\n      <th></th>\n      <th>season</th>\n      <th>holiday</th>\n      <th>workingday</th>\n      <th>weather</th>\n      <th>temp</th>\n      <th>atemp</th>\n      <th>humidity</th>\n      <th>windspeed</th>\n      <th>casual</th>\n      <th>registered</th>\n      <th>total</th>\n      <th>hour</th>\n    </tr>\n    <tr>\n      <th>datetime</th>\n      <th></th>\n      <th></th>\n      <th></th>\n      <th></th>\n      <th></th>\n      <th></th>\n      <th></th>\n      <th></th>\n      <th></th>\n      <th></th>\n      <th></th>\n      <th></th>\n    </tr>\n  </thead>\n  <tbody>\n    <tr>\n      <th>2011-01-01 00:00:00</th>\n      <td>1</td>\n      <td>0</td>\n      <td>0</td>\n      <td>1</td>\n      <td>9.84</td>\n      <td>14.395</td>\n      <td>81</td>\n      <td>0.0</td>\n      <td>3</td>\n      <td>13</td>\n      <td>16</td>\n      <td>0</td>\n    </tr>\n    <tr>\n      <th>2011-01-01 01:00:00</th>\n      <td>1</td>\n      <td>0</td>\n      <td>0</td>\n      <td>1</td>\n      <td>9.02</td>\n      <td>13.635</td>\n      <td>80</td>\n      <td>0.0</td>\n      <td>8</td>\n      <td>32</td>\n      <td>40</td>\n      <td>1</td>\n    </tr>\n    <tr>\n      <th>2011-01-01 02:00:00</th>\n      <td>1</td>\n      <td>0</td>\n      <td>0</td>\n      <td>1</td>\n      <td>9.02</td>\n      <td>13.635</td>\n      <td>80</td>\n      <td>0.0</td>\n      <td>5</td>\n      <td>27</td>\n      <td>32</td>\n      <td>2</td>\n    </tr>\n    <tr>\n      <th>2011-01-01 03:00:00</th>\n      <td>1</td>\n      <td>0</td>\n      <td>0</td>\n      <td>1</td>\n      <td>9.84</td>\n      <td>14.395</td>\n      <td>75</td>\n      <td>0.0</td>\n      <td>3</td>\n      <td>10</td>\n      <td>13</td>\n      <td>3</td>\n    </tr>\n    <tr>\n      <th>2011-01-01 04:00:00</th>\n      <td>1</td>\n      <td>0</td>\n      <td>0</td>\n      <td>1</td>\n      <td>9.84</td>\n      <td>14.395</td>\n      <td>75</td>\n      <td>0.0</td>\n      <td>0</td>\n      <td>1</td>\n      <td>1</td>\n      <td>4</td>\n    </tr>\n  </tbody>\n</table>\n</div>"
     },
     "execution_count": 64,
     "metadata": {},
     "output_type": "execute_result"
    }
   ],
   "source": [
    "# Lectura de la información de archivo .csv\n",
    "bikes = pd.read_csv('../data/raw/bikeshare.csv', index_col='datetime', parse_dates=True)\n",
    "\n",
    "# Renombrar variable \"count\" a \"total\"\n",
    "bikes.rename(columns={'count':'total'}, inplace=True)\n",
    "\n",
    "# Crear la hora como una variable \n",
    "bikes['hour'] = bikes.index.hour\n",
    "\n",
    "# Visualización de los datos\n",
    "bikes.head()"
   ]
  },
  {
   "cell_type": "markdown",
   "metadata": {},
   "source": [
    "### Punto 1 - Análisis descriptivo\n",
    "\n",
    "Ejecute las celdas 1.1 y 1.2. A partir de los resultados realice un análisis descriptivo sobre las variables \"season\" y \"hour\", escriba sus inferencias sobre los datos. Para complementar su análisis puede usar métricas como máximo, mínimo, percentiles entre otros."
   ]
  },
  {
   "cell_type": "code",
   "execution_count": 65,
   "metadata": {
    "ExecuteTime": {
     "end_time": "2024-04-08T08:08:14.932518Z",
     "start_time": "2024-04-08T08:08:14.921955Z"
    }
   },
   "outputs": [
    {
     "data": {
      "text/plain": "season\n1    116.343261\n2    215.251372\n3    234.417124\n4    198.988296\nName: total, dtype: float64"
     },
     "execution_count": 65,
     "metadata": {},
     "output_type": "execute_result"
    }
   ],
   "source": [
    "# Celda 1.1\n",
    "bikes.groupby('season').total.mean()"
   ]
  },
  {
   "cell_type": "markdown",
   "source": [
    "La variable \"season\" representa la estación del año en la que se registraron los datos, codificada de la siguiente \n",
    "manera:\n",
    "1: Primavera\n",
    "2: Verano\n",
    "3: Otoño\n",
    "4: Invierno\n",
    "\n",
    "Según el análisis descriptivo realizado, se observa lo siguiente:\n",
    "La media de alquileres de bicicletas es más alta en el verano, el otoño, el invierno y finalmente la primavera."
   ],
   "metadata": {
    "collapsed": false
   }
  },
  {
   "cell_type": "code",
   "execution_count": 66,
   "metadata": {
    "scrolled": true,
    "ExecuteTime": {
     "end_time": "2024-04-08T08:08:17.804388Z",
     "start_time": "2024-04-08T08:08:17.798560Z"
    }
   },
   "outputs": [
    {
     "data": {
      "text/plain": "hour\n0      55.138462\n1      33.859031\n2      22.899554\n3      11.757506\n4       6.407240\n5      19.767699\n6      76.259341\n7     213.116484\n8     362.769231\n9     221.780220\n10    175.092308\n11    210.674725\n12    256.508772\n13    257.787281\n14    243.442982\n15    254.298246\n16    316.372807\n17    468.765351\n18    430.859649\n19    315.278509\n20    228.517544\n21    173.370614\n22    133.576754\n23     89.508772\nName: total, dtype: float64"
     },
     "execution_count": 66,
     "metadata": {},
     "output_type": "execute_result"
    }
   ],
   "source": [
    "# Celda 1.2\n",
    "bikes.groupby('hour').total.mean()"
   ]
  },
  {
   "cell_type": "markdown",
   "source": [
    "La variable \"hour\" representa la hora del día en la que se registraron los datos, variando de 0 a 23.\n",
    "El análisis descriptivo revela lo siguiente:\n",
    "- La distribución de alquileres de bicicletas a lo largo del día muestra un patrón bimodal.\n",
    "- Las horas con mayor demanda de alquileres parecen ser alrededor de las 8 de la mañana y las 5-6 de la tarde, coincidiendo probablemente con las horas de entrada y salida del trabajo, respectivamente.\n",
    "- Las horas de menor demanda se observan durante la madrugada, especialmente entre las 2 y las 4 de la mañana, lo cual es comprensible dada la baja actividad durante esas horas."
   ],
   "metadata": {
    "collapsed": false
   }
  },
  {
   "cell_type": "markdown",
   "metadata": {},
   "source": [
    "### Punto 2 - Análisis de gráficos\n",
    "\n",
    "Primero ejecute la celda 2.1 y asegúrese de comprender el código y el resultado. Luego, en cada una de celdas 2.2 y 2.3 escriba un código que genere una gráfica del número de bicicletas rentadas promedio para cada valor de la variable \"hour\" (hora) cuando la variable \"season\" es igual a 1 (invierno) e igual a 3 (verano), respectivamente. Analice y escriba sus hallazgos."
   ]
  },
  {
   "cell_type": "code",
   "execution_count": 67,
   "metadata": {
    "ExecuteTime": {
     "end_time": "2024-04-08T08:15:14.460790Z",
     "start_time": "2024-04-08T08:15:14.374619Z"
    }
   },
   "outputs": [
    {
     "data": {
      "text/plain": "<Axes: xlabel='hour'>"
     },
     "execution_count": 67,
     "metadata": {},
     "output_type": "execute_result"
    },
    {
     "data": {
      "text/plain": "<Figure size 640x480 with 1 Axes>",
      "image/png": "[encoded data removed]"
     },
     "metadata": {},
     "output_type": "display_data"
    }
   ],
   "source": [
    "# Celda 2.1 - rentas promedio para cada valor de la variable \"hour\"\n",
    "bikes.groupby('hour').total.mean().plot()"
   ]
  },
  {
   "cell_type": "code",
   "execution_count": 68,
   "metadata": {
    "ExecuteTime": {
     "end_time": "2024-04-08T08:16:12.948050Z",
     "start_time": "2024-04-08T08:16:12.865763Z"
    }
   },
   "outputs": [
    {
     "data": {
      "text/plain": "<Figure size 640x480 with 1 Axes>",
      "image/png": "[encoded data removed]"
     },
     "metadata": {},
     "output_type": "display_data"
    }
   ],
   "source": [
    "# Celda 2.2 - \"season\"=1 escriba su código y hallazgos \n",
    "bikes[bikes['season'] == 1].groupby('hour').total.mean().plot()\n",
    "plt.title('Número promedio de bicicletas rentadas por hora en Invierno')\n",
    "plt.xlabel('Hora del día')\n",
    "plt.ylabel('Número promedio de bicicletas rentadas')\n",
    "plt.grid(True)\n",
    "plt.show()"
   ]
  },
  {
   "cell_type": "code",
   "execution_count": 69,
   "metadata": {
    "ExecuteTime": {
     "end_time": "2024-04-08T08:16:38.965387Z",
     "start_time": "2024-04-08T08:16:38.897949Z"
    }
   },
   "outputs": [
    {
     "data": {
      "text/plain": "<Figure size 640x480 with 1 Axes>",
      "image/png": "[encoded data removed]"
     },
     "metadata": {},
     "output_type": "display_data"
    }
   ],
   "source": [
    "# Celda 2.3 - \"season\"=3 escriba su código y hallazgos \n",
    "bikes[bikes['season'] == 3].groupby('hour').total.mean().plot()\n",
    "plt.title('Número promedio de bicicletas rentadas por hora en Verano')\n",
    "plt.xlabel('Hora del día')\n",
    "plt.ylabel('Número promedio de bicicletas rentadas')\n",
    "plt.grid(True)\n",
    "plt.show()"
   ]
  },
  {
   "cell_type": "markdown",
   "source": [
    "- Durante el invierno, la demanda de alquiler de bicicletas muestra un patrón más marcado con picos claros en las horas \n",
    "punta.\n",
    "- Se observa un pico pronunciado en la mañana alrededor de las 8 am y otro en la tarde alrededor de las 5-6 pm, lo \n",
    "cual coincide con los momentos típicos de entrada y salida del trabajo."
   ],
   "metadata": {
    "collapsed": false
   }
  },
  {
   "cell_type": "markdown",
   "metadata": {},
   "source": [
    "### Punto 3 - Regresión lineal\n",
    "En la celda 3 ajuste un modelo de regresión lineal a todo el conjunto de datos, utilizando \"total\" como variable de respuesta y \"season\" y \"hour\" como las únicas variables predictoras, teniendo en cuenta que la variable \"season\" es categórica. Luego, imprima los coeficientes e interprételos. ¿Cuáles son las limitaciones de la regresión lineal en este caso?"
   ]
  },
  {
   "cell_type": "code",
   "execution_count": 78,
   "metadata": {
    "ExecuteTime": {
     "end_time": "2024-04-08T08:28:52.299111Z",
     "start_time": "2024-04-08T08:28:52.290116Z"
    }
   },
   "outputs": [
    {
     "name": "stdout",
     "output_type": "stream",
     "text": [
      "Coeficientes:\n",
      "Intercepto: -6.8613447465002935\n",
      "Coeficientes de season: [ 99.24935554 118.61364466  86.34787834]\n",
      "Coeficiente de hour: 10.539270975673817\n",
      "\n",
      "Interpretación:\n",
      "- El intercepto representa el número promedio de bicicletas alquiladas cuando season=2 (Verano) y hour=0.\n",
      "- El coeficiente de season indica el cambio promedio en el número de bicicletas alquiladas cuando season cambia de 1 a 2 o de 3 a 4, manteniendo la hora constante.\n",
      "- El coeficiente de hour indica el cambio promedio en el número de bicicletas alquiladas por cada unidad de cambio en la hora del día, manteniendo la estación constante.\n"
     ]
    }
   ],
   "source": [
    "# Celda 3\n",
    "X = bikes[['season', 'hour']]\n",
    "y = bikes['total']\n",
    "feature_names = list(X.columns)\n",
    "\n",
    "X_train, X_test, y_train, y_test = skm.train_test_split(\n",
    "    X,\n",
    "    y,\n",
    "    test_size=0.2,\n",
    "    random_state=0\n",
    ")\n",
    "\n",
    "lir_rg = LIR()\n",
    "\n",
    "column_transformer = ColumnTransformer(\n",
    "    [('one_hot_encoder', OneHotEncoder(drop='first'), [0])],\n",
    "    remainder='passthrough'\n",
    ")\n",
    "\n",
    "model = Pipeline(\n",
    "    steps=[('preprocessor', column_transformer), ('regressor', lir_rg)]\n",
    ")\n",
    "\n",
    "model.fit(X_train, y_train)\n",
    "\n",
    "coefficients = model.named_steps['regressor'].coef_\n",
    "intercept = model.named_steps['regressor'].intercept_\n",
    "\n",
    "print(\"Coeficientes:\")\n",
    "print(\"Intercepto:\", intercept)\n",
    "print(\"Coeficientes de season:\", coefficients[:3])\n",
    "print(\"Coeficiente de hour:\", coefficients[3])\n",
    "\n",
    "print(\"\\nInterpretación:\")\n",
    "print(\"- El intercepto representa el número promedio de bicicletas alquiladas cuando season=2 (Verano) y hour=0.\")\n",
    "print(\"- El coeficiente de season indica el cambio promedio en el número de bicicletas alquiladas cuando season cambia\"\n",
    "      \" de 1 a 2 o de 3 a 4, manteniendo la hora constante.\")\n",
    "print(\"- El coeficiente de hour indica el cambio promedio en el número de bicicletas alquiladas por cada unidad de \"\n",
    "      \"cambio en la hora del día, manteniendo la estación constante.\")"
   ]
  },
  {
   "cell_type": "markdown",
   "source": [
    "La regresión lineal asume una relación lineal entre las variables predictoras y la variable de respuesta. En este caso, es posible que la relación entre la hora del día y el número de bicicletas alquiladas no sea estrictamente lineal, especialmente si hay efectos no lineales como picos durante ciertas horas."
   ],
   "metadata": {
    "collapsed": false
   }
  },
  {
   "cell_type": "markdown",
   "metadata": {},
   "source": [
    "### Punto 4 - Árbol de decisión manual\n",
    "En la celda 4 cree un árbol de decisiones para pronosticar la variable \"total\" iterando **manualmente** sobre las variables \"hour\" y  \"season\". El árbol debe tener al menos 6 nodos finales."
   ]
  },
  {
   "cell_type": "code",
   "execution_count": 83,
   "metadata": {
    "ExecuteTime": {
     "end_time": "2024-04-08T08:35:59.603111Z",
     "start_time": "2024-04-08T08:35:59.547167Z"
    }
   },
   "outputs": [
    {
     "data": {
      "text/plain": "{'y_pred': 1,\n 'y_prob': 190.8118254879449,\n 'level': 0,\n 'split': [1, 8.0],\n 'n_samples': 8708,\n 'gain': 18225.48257905194,\n 'sl': {'y_pred': 1,\n  'y_prob': 54.986115931968065,\n  'level': 1,\n  'split': [1, 7.0],\n  'n_samples': 2879,\n  'gain': 6976.900556961125,\n  'sl': {'y_pred': 1,\n   'y_prob': 32.599444223898374,\n   'level': 2,\n   'split': [1, 6.0],\n   'n_samples': 2517,\n   'gain': 607.6218415621652,\n   'sl': {'y_pred': 1,\n    'y_prob': 25.42339832869081,\n    'level': 3,\n    'split': -1,\n    'n_samples': 2152,\n    'gain': 396.10111004989835},\n   'sr': {'y_pred': 1,\n    'y_prob': 74.54223433242507,\n    'level': 3,\n    'split': -1,\n    'n_samples': 365,\n    'gain': 662.1525156817661}},\n  'sr': {'y_pred': 1,\n   'y_prob': 209.6098901098901,\n   'level': 2,\n   'split': [0, 2.0],\n   'n_samples': 362,\n   'gain': 4813.612561990536,\n   'sl': {'y_pred': 1,\n    'y_prob': 122.10989010989012,\n    'level': 3,\n    'split': -1,\n    'n_samples': 89,\n    'gain': 0},\n   'sr': {'y_pred': 1,\n    'y_prob': 237.04363636363635,\n    'level': 3,\n    'split': -1,\n    'n_samples': 273,\n    'gain': 125.06658326581237}}},\n 'sr': {'y_pred': 1,\n  'y_prob': 257.8557708797805,\n  'level': 1,\n  'split': [1, 21.0],\n  'n_samples': 5829,\n  'gain': 7476.345059373736,\n  'sl': {'y_pred': 1,\n   'y_prob': 287.31050517860916,\n   'level': 2,\n   'split': [0, 2.0],\n   'n_samples': 4729,\n   'gain': 8378.802172825846,\n   'sl': {'y_pred': 1,\n    'y_prob': 176.07993338884262,\n    'level': 3,\n    'split': -1,\n    'n_samples': 1199,\n    'gain': 1258.4696492804142},\n   'sr': {'y_pred': 1,\n    'y_prob': 324.9702718006795,\n    'level': 3,\n    'split': -1,\n    'n_samples': 3530,\n    'gain': 7398.973279397702}},\n  'sr': {'y_pred': 1,\n   'y_prob': 130.93647912885663,\n   'level': 2,\n   'split': [0, 2.0],\n   'n_samples': 1100,\n   'gain': 2598.164055447298,\n   'sl': {'y_pred': 1,\n    'y_prob': 68.55555555555556,\n    'level': 3,\n    'split': -1,\n    'n_samples': 277,\n    'gain': 716.4710051416932},\n   'sr': {'y_pred': 1,\n    'y_prob': 151.71636363636364,\n    'level': 3,\n    'split': -1,\n    'n_samples': 823,\n    'gain': 2297.0753560529556}}}}"
     },
     "execution_count": 83,
     "metadata": {},
     "output_type": "execute_result"
    }
   ],
   "source": [
    "# Celda 4\n",
    "def gini(y):\n",
    "    if y.shape[0] == 0:\n",
    "        return 0\n",
    "    else:\n",
    "        return 1 - (y.mean()**2 + (1 - y.mean())**2)\n",
    "\n",
    "def gini_impurity(X_col, y, split):\n",
    "\n",
    "    filter_l = X_col < split\n",
    "    y_l = y.loc[filter_l]\n",
    "    y_r = y.loc[~filter_l]\n",
    "\n",
    "    n_l = y_l.shape[0]\n",
    "    n_r = y_r.shape[0]\n",
    "\n",
    "    gini_y = gini(y)\n",
    "    gini_l = gini(y_l)\n",
    "    gini_r = gini(y_r)\n",
    "\n",
    "    gini_impurity_ = gini_y - (n_l / (n_l + n_r) * gini_l + n_r / (n_l + n_r) * gini_r)\n",
    "\n",
    "    return gini_impurity_\n",
    "\n",
    "def best_split(X, y, num_pct=10):\n",
    "\n",
    "    features = range(X.shape[1])\n",
    "\n",
    "    best_split = [0, 0, 0]  # j, split, gain\n",
    "\n",
    "    # Para todas las varibles \n",
    "    for j in features:\n",
    "\n",
    "        splits = np.percentile(X.iloc[:, j], np.arange(0, 100, 100.0 / (num_pct+1)).tolist())\n",
    "        splits = np.unique(splits)[1:]\n",
    "\n",
    "        # Para cada partición\n",
    "        for split in splits:\n",
    "            gain = gini_impurity(X.iloc[:, j], y, split)\n",
    "\n",
    "            if gain > best_split[2]:\n",
    "                best_split = [j, split, gain]\n",
    "\n",
    "    return best_split\n",
    "\n",
    "def tree_grow(X, y, level=0, min_gain=0.001, max_depth=None, num_pct=10):\n",
    "\n",
    "    # Si solo es una observación\n",
    "    if X.shape[0] == 1:\n",
    "        tree = dict(y_pred=y.iloc[:1].values[0], y_prob=0.5, level=level, split=-1, n_samples=1, gain=0)\n",
    "        return tree\n",
    "\n",
    "    # Calcular la mejor división\n",
    "    j, split, gain = best_split(X, y, num_pct)\n",
    "\n",
    "    # Guardar el árbol y estimar la predicción\n",
    "    y_pred = int(y.mean() >= 0.5)\n",
    "    y_prob = (y.sum() + 1.0) / (y.shape[0] + 2.0)  # Corrección Laplace \n",
    "\n",
    "    tree = dict(y_pred=y_pred, y_prob=y_prob, level=level, split=-1, n_samples=X.shape[0], gain=gain)\n",
    "    # Revisar el criterio de parada \n",
    "    if gain < min_gain:\n",
    "        return tree\n",
    "    if max_depth is not None:\n",
    "        if level >= max_depth:\n",
    "            return tree\n",
    "\n",
    "            # Continuar creando la partición\n",
    "    filter_l = X.iloc[:, j] < split\n",
    "    X_l, y_l = X.loc[filter_l], y.loc[filter_l]\n",
    "    X_r, y_r = X.loc[~filter_l], y.loc[~filter_l]\n",
    "    tree['split'] = [j, split]\n",
    "\n",
    "    # Siguiente iteración para cada partición\n",
    "\n",
    "    tree['sl'] = tree_grow(X_l, y_l, level + 1, min_gain=min_gain, max_depth=max_depth, num_pct=num_pct)\n",
    "    tree['sr'] = tree_grow(X_r, y_r, level + 1, min_gain=min_gain, max_depth=max_depth, num_pct=num_pct)\n",
    "\n",
    "    return tree\n",
    "\n",
    "tree_grow(X_train, y_train, level=0, min_gain=0.001, max_depth=3, num_pct=10)"
   ]
  },
  {
   "cell_type": "markdown",
   "metadata": {},
   "source": [
    "### Punto 5 - Árbol de decisión con librería\n",
    "En la celda 5 entrene un árbol de decisiones con la **librería sklearn**, usando las variables predictoras \"season\" y \"hour\" y calibre los parámetros que considere conveniente para obtener un mejor desempeño. Recuerde dividir los datos en conjuntos de entrenamiento y validación para esto. Comente el desempeño del modelo con alguna métrica de desempeño de modelos de regresión y compare desempeño con el modelo del punto 3."
   ]
  },
  {
   "cell_type": "code",
   "execution_count": 44,
   "metadata": {
    "ExecuteTime": {
     "end_time": "2024-04-08T06:52:51.075031Z",
     "start_time": "2024-04-08T06:52:48.509637Z"
    }
   },
   "outputs": [
    {
     "data": {
      "text/plain": "13368.224861302493"
     },
     "execution_count": 44,
     "metadata": {},
     "output_type": "execute_result"
    }
   ],
   "source": [
    "# Celda 5\n",
    "tree_rg = DTR(criterion='squared_error', random_state=0)\n",
    "tree_rg.fit(X_train, y_train)\n",
    "\n",
    "ccp_path = tree_rg.cost_complexity_pruning_path(X_train, y_train)\n",
    "kfold = skm.KFold(10, random_state=1, shuffle=True)\n",
    "grid = skm.GridSearchCV(\n",
    "    tree_rg, \n",
    "    {'ccp_alpha': ccp_path.ccp_alphas},\n",
    "    refit=True,\n",
    "    cv=kfold,\n",
    "    scoring='neg_root_mean_squared_error'\n",
    ")\n",
    "grid.fit(X_train, y_train)\n",
    "best_ = grid.best_estimator_\n",
    "mean_squared_error(y_test, best_.predict(X_test))"
   ]
  },
  {
   "cell_type": "markdown",
   "source": [
    "En otras palabras, el MSE del conjunto de validación asociado con el árbol de regresión es 13.368. Por lo tanto, la \n",
    "raíz cuadrada del MSE es de alrededor de 115, lo que indica que este modelo conduce a predicciones de validación que \n",
    "están alrededor de 115 bicicletas del valor medio real del número de bicicletas alquiladas."
   ],
   "metadata": {
    "collapsed": false
   }
  },
  {
   "cell_type": "markdown",
   "metadata": {},
   "source": [
    "## Parte B - Métodos de ensamblajes\n",
    "En esta parte del taller se usará el conjunto de datos de Popularidad de Noticias Online. El objetivo es predecir si la notica es popular o no, la popularidad está dada por la cantidad de reacciones en redes sociales. Para más detalles puede visitar el siguiente enlace: [datos](https://archive.ics.uci.edu/ml/datasets/online+news+popularity)."
   ]
  },
  {
   "cell_type": "markdown",
   "metadata": {},
   "source": [
    "### Datos popularidad de noticias"
   ]
  },
  {
   "cell_type": "code",
   "execution_count": 57,
   "metadata": {
    "ExecuteTime": {
     "end_time": "2024-04-08T07:50:49.286360Z",
     "start_time": "2024-04-08T07:50:49.233762Z"
    }
   },
   "outputs": [
    {
     "data": {
      "text/plain": "                                                 url  timedelta  \\\n0  http://mashable.com/2014/12/10/cia-torture-rep...       28.0   \n1  http://mashable.com/2013/10/18/bitlock-kicksta...      447.0   \n2  http://mashable.com/2013/07/24/google-glass-po...      533.0   \n3  http://mashable.com/2013/11/21/these-are-the-m...      413.0   \n4  http://mashable.com/2014/02/11/parking-ticket-...      331.0   \n\n   n_tokens_title  n_tokens_content  n_unique_tokens  n_non_stop_words  \\\n0             9.0             188.0         0.732620               1.0   \n1             7.0             297.0         0.653199               1.0   \n2            11.0             181.0         0.660377               1.0   \n3            12.0             781.0         0.497409               1.0   \n4             8.0             177.0         0.685714               1.0   \n\n   n_non_stop_unique_tokens  num_hrefs  num_self_hrefs  num_imgs  ...  \\\n0                  0.844262        5.0             1.0       1.0  ...   \n1                  0.815789        9.0             4.0       1.0  ...   \n2                  0.775701        4.0             3.0       1.0  ...   \n3                  0.677350       10.0             3.0       1.0  ...   \n4                  0.830357        3.0             2.0       1.0  ...   \n\n   min_positive_polarity  max_positive_polarity  avg_negative_polarity  \\\n0               0.200000                   0.80              -0.487500   \n1               0.160000                   0.50              -0.135340   \n2               0.136364                   1.00               0.000000   \n3               0.100000                   1.00              -0.195701   \n4               0.100000                   0.55              -0.175000   \n\n   min_negative_polarity  max_negative_polarity  title_subjectivity  \\\n0                  -0.60              -0.250000                 0.9   \n1                  -0.40              -0.050000                 0.1   \n2                   0.00               0.000000                 0.3   \n3                  -0.40              -0.071429                 0.0   \n4                  -0.25              -0.100000                 0.0   \n\n   title_sentiment_polarity  abs_title_subjectivity  \\\n0                       0.8                     0.4   \n1                      -0.1                     0.4   \n2                       1.0                     0.2   \n3                       0.0                     0.5   \n4                       0.0                     0.5   \n\n   abs_title_sentiment_polarity  Popular  \n0                           0.8        1  \n1                           0.1        0  \n2                           1.0        0  \n3                           0.0        0  \n4                           0.0        0  \n\n[5 rows x 61 columns]",
      "text/html": "<div>\n<style scoped>\n    .dataframe tbody tr th:only-of-type {\n        vertical-align: middle;\n    }\n\n    .dataframe tbody tr th {\n        vertical-align: top;\n    }\n\n    .dataframe thead th {\n        text-align: right;\n    }\n</style>\n<table border=\"1\" class=\"dataframe\">\n  <thead>\n    <tr style=\"text-align: right;\">\n      <th></th>\n      <th>url</th>\n      <th>timedelta</th>\n      <th>n_tokens_title</th>\n      <th>n_tokens_content</th>\n      <th>n_unique_tokens</th>\n      <th>n_non_stop_words</th>\n      <th>n_non_stop_unique_tokens</th>\n      <th>num_hrefs</th>\n      <th>num_self_hrefs</th>\n      <th>num_imgs</th>\n      <th>...</th>\n      <th>min_positive_polarity</th>\n      <th>max_positive_polarity</th>\n      <th>avg_negative_polarity</th>\n      <th>min_negative_polarity</th>\n      <th>max_negative_polarity</th>\n      <th>title_subjectivity</th>\n      <th>title_sentiment_polarity</th>\n      <th>abs_title_subjectivity</th>\n      <th>abs_title_sentiment_polarity</th>\n      <th>Popular</th>\n    </tr>\n  </thead>\n  <tbody>\n    <tr>\n      <th>0</th>\n      <td>http://mashable.com/2014/12/10/cia-torture-rep...</td>\n      <td>28.0</td>\n      <td>9.0</td>\n      <td>188.0</td>\n      <td>0.732620</td>\n      <td>1.0</td>\n      <td>0.844262</td>\n      <td>5.0</td>\n      <td>1.0</td>\n      <td>1.0</td>\n      <td>...</td>\n      <td>0.200000</td>\n      <td>0.80</td>\n      <td>-0.487500</td>\n      <td>-0.60</td>\n      <td>-0.250000</td>\n      <td>0.9</td>\n      <td>0.8</td>\n      <td>0.4</td>\n      <td>0.8</td>\n      <td>1</td>\n    </tr>\n    <tr>\n      <th>1</th>\n      <td>http://mashable.com/2013/10/18/bitlock-kicksta...</td>\n      <td>447.0</td>\n      <td>7.0</td>\n      <td>297.0</td>\n      <td>0.653199</td>\n      <td>1.0</td>\n      <td>0.815789</td>\n      <td>9.0</td>\n      <td>4.0</td>\n      <td>1.0</td>\n      <td>...</td>\n      <td>0.160000</td>\n      <td>0.50</td>\n      <td>-0.135340</td>\n      <td>-0.40</td>\n      <td>-0.050000</td>\n      <td>0.1</td>\n      <td>-0.1</td>\n      <td>0.4</td>\n      <td>0.1</td>\n      <td>0</td>\n    </tr>\n    <tr>\n      <th>2</th>\n      <td>http://mashable.com/2013/07/24/google-glass-po...</td>\n      <td>533.0</td>\n      <td>11.0</td>\n      <td>181.0</td>\n      <td>0.660377</td>\n      <td>1.0</td>\n      <td>0.775701</td>\n      <td>4.0</td>\n      <td>3.0</td>\n      <td>1.0</td>\n      <td>...</td>\n      <td>0.136364</td>\n      <td>1.00</td>\n      <td>0.000000</td>\n      <td>0.00</td>\n      <td>0.000000</td>\n      <td>0.3</td>\n      <td>1.0</td>\n      <td>0.2</td>\n      <td>1.0</td>\n      <td>0</td>\n    </tr>\n    <tr>\n      <th>3</th>\n      <td>http://mashable.com/2013/11/21/these-are-the-m...</td>\n      <td>413.0</td>\n      <td>12.0</td>\n      <td>781.0</td>\n      <td>0.497409</td>\n      <td>1.0</td>\n      <td>0.677350</td>\n      <td>10.0</td>\n      <td>3.0</td>\n      <td>1.0</td>\n      <td>...</td>\n      <td>0.100000</td>\n      <td>1.00</td>\n      <td>-0.195701</td>\n      <td>-0.40</td>\n      <td>-0.071429</td>\n      <td>0.0</td>\n      <td>0.0</td>\n      <td>0.5</td>\n      <td>0.0</td>\n      <td>0</td>\n    </tr>\n    <tr>\n      <th>4</th>\n      <td>http://mashable.com/2014/02/11/parking-ticket-...</td>\n      <td>331.0</td>\n      <td>8.0</td>\n      <td>177.0</td>\n      <td>0.685714</td>\n      <td>1.0</td>\n      <td>0.830357</td>\n      <td>3.0</td>\n      <td>2.0</td>\n      <td>1.0</td>\n      <td>...</td>\n      <td>0.100000</td>\n      <td>0.55</td>\n      <td>-0.175000</td>\n      <td>-0.25</td>\n      <td>-0.100000</td>\n      <td>0.0</td>\n      <td>0.0</td>\n      <td>0.5</td>\n      <td>0.0</td>\n      <td>0</td>\n    </tr>\n  </tbody>\n</table>\n<p>5 rows × 61 columns</p>\n</div>"
     },
     "execution_count": 57,
     "metadata": {},
     "output_type": "execute_result"
    }
   ],
   "source": [
    "# Lectura de la información de archivo .csv\n",
    "df = pd.read_csv('../data/raw/mashable.csv', index_col=0)\n",
    "df.head()"
   ]
  },
  {
   "cell_type": "code",
   "execution_count": 58,
   "metadata": {
    "ExecuteTime": {
     "end_time": "2024-04-08T07:50:49.760568Z",
     "start_time": "2024-04-08T07:50:49.757859Z"
    }
   },
   "outputs": [],
   "source": [
    "# Definición variable de interes y variables predictoras\n",
    "X = df.drop(['url', 'Popular'], axis=1)\n",
    "y = df['Popular']"
   ]
  },
  {
   "cell_type": "code",
   "execution_count": 59,
   "metadata": {
    "ExecuteTime": {
     "end_time": "2024-04-08T07:50:50.199135Z",
     "start_time": "2024-04-08T07:50:50.195370Z"
    }
   },
   "outputs": [],
   "source": [
    "# División de la muestra en set de entrenamiento y prueba\n",
    "X_train, X_test, y_train, y_test = skm.train_test_split(X, y, random_state=1)"
   ]
  },
  {
   "cell_type": "markdown",
   "metadata": {},
   "source": [
    "### Punto 6 - Árbol de decisión y regresión logística\n",
    "En la celda 6 construya un árbol de decisión y una regresión logística. Para el árbol calibre al menos un parámetro y evalúe el desempeño de cada modelo usando las métricas de Accuracy y F1-Score."
   ]
  },
  {
   "cell_type": "code",
   "execution_count": 60,
   "metadata": {
    "collapsed": false,
    "ExecuteTime": {
     "end_time": "2024-04-08T07:50:51.804502Z",
     "start_time": "2024-04-08T07:50:51.472614Z"
    }
   },
   "outputs": [],
   "source": [
    "# Celda 6\n",
    "log_clf = LR()\n",
    "log_clf.fit(X_train, y_train)\n",
    "\n",
    "tree_clf = DTC(criterion='entropy', random_state=0)\n",
    "tree_clf.fit(X_train, y_train)\n",
    "\n",
    "ccp_path = tree_clf.cost_complexity_pruning_path(X_train, y_train)\n",
    "kfold = skm.KFold(5, random_state=1, shuffle=True)\n",
    "grid = skm.GridSearchCV(\n",
    "    tree_clf,\n",
    "    {'ccp_alpha': ccp_path.ccp_alphas},\n",
    "    refit=True,\n",
    "    cv=kfold,\n",
    "    scoring='accuracy'\n",
    ")"
   ]
  },
  {
   "cell_type": "code",
   "outputs": [
    {
     "name": "stdout",
     "output_type": "stream",
     "text": [
      "\n",
      "Desempeño de la regresión logística:\n",
      "Accuracy: 0.6133333333333333\n",
      "F1-Score: 0.6096904441453566\n",
      "Desempeño del árbol de decisión:\n",
      "Accuracy: 0.6453333333333333\n",
      "F1-Score: 0.6448598130841121\n"
     ]
    }
   ],
   "source": [
    "grid.fit(X_train, y_train)\n",
    "best_ = grid.best_estimator_\n",
    "\n",
    "print(\"\\nDesempeño de la regresión logística:\")\n",
    "print(\"Accuracy:\", accuracy_score(y_test, log_clf.predict(X_test)))\n",
    "print(\"F1-Score:\", f1_score(y_test, log_clf.predict(X_test)))\n",
    "print(\"Desempeño del árbol de decisión:\")\n",
    "print(\"Accuracy:\", accuracy_score(y_test, best_.predict(X_test)))\n",
    "print(\"F1-Score:\", f1_score(y_test, best_.predict(X_test)))"
   ],
   "metadata": {
    "ExecuteTime": {
     "end_time": "2024-04-08T07:54:21.339156Z",
     "start_time": "2024-04-08T07:51:01.830761Z"
    }
   },
   "execution_count": 61
  },
  {
   "cell_type": "markdown",
   "metadata": {},
   "source": [
    "### Punto 7 - Votación Mayoritaria\n",
    "En la celda 7 elabore un esamble con la metodología de **Votación mayoritaria** compuesto por 300 muestras bagged donde:\n",
    "\n",
    "-las primeras 100 muestras vienen de árboles de decisión donde max_depth tome un valor de su elección\\\n",
    "-las segundas 100 muestras vienen de árboles de decisión donde min_samples_leaf tome un valor de su elección\\\n",
    "-las últimas 100 muestras vienen de regresiones logísticas\n",
    "\n",
    "Evalúe cada uno de los tres modelos de manera independiente utilizando las métricas de Accuracy y F1-Score, luego evalúe el ensamble de modelos y compare los resultados. \n",
    "\n",
    "Nota: \n",
    "\n",
    "Para este ensamble de 300 modelos, deben hacer votación mayoritaria. Esto lo pueden hacer de distintas maneras. La más \"fácil\" es haciendo la votación \"manualmente\", como se hace a partir del minuto 5:45 del video de Ejemplo práctico de emsablajes en Coursera. Digo que es la más fácil porque si hacen la votación mayoritaria sobre las 300 predicciones van a obtener lo que se espera.\n",
    "\n",
    "Otra opción es: para cada uno de los 3 tipos de modelos, entrenar un ensamble de 100 modelos cada uno. Predecir para cada uno de esos tres ensambles y luego predecir como un ensamble de los 3 ensambles. La cuestión es que la votación mayoritaria al usar los 3 ensambles no necesariamente va a generar el mismo resultado que si hacen la votación mayoritaria directamente sobre los 300 modelos. Entonces, para los que quieran hacer esto, deben hacer ese último cálculo con cuidado.\n",
    "\n",
    "Para los que quieran hacerlo como ensamble de ensambles, digo que se debe hacer el ensamble final con cuidado por lo siguiente. Supongamos que:\n",
    "\n",
    "* para los 100 árboles del primer tipo, la votación mayoritaria es: 55% de los modelos predicen que la clase de una observación es \"1\"\n",
    "* para los 100 árboles del segundo tipo, la votación mayoritaria es: 55% de los modelos predicen que la clase de una observación es \"1\"\n",
    "* para las 100 regresiones logísticas, la votación mayoritaria es: 10% de los modelos predicen que la clase de una observación es \"1\"\n",
    "\n",
    "Si se hace la votación mayoritaria de los 300 modelos, la predicción de esa observación debería ser: (100*55%+100*55%+100*10%)/300 = 40% de los modelos votan porque la predicción debería ser \"1\". Es decir, la predicción del ensamble es \"0\" (dado que menos del 50% de modelos predijo un 1).\n",
    "\n",
    "Sin embargo, si miramos cada ensamble por separado, el primer ensamble predice \"1\", el segundo ensamble predice \"1\" y el último ensamble predice \"0\". Si hago votación mayoritaria sobre esto, la predicción va a ser \"1\", lo cual es distinto a si se hace la votación mayoritaria sobre los 300 modelos."
   ]
  },
  {
   "cell_type": "code",
   "execution_count": 52,
   "metadata": {
    "ExecuteTime": {
     "end_time": "2024-04-08T07:33:05.060251Z",
     "start_time": "2024-04-08T07:32:40.113933Z"
    }
   },
   "outputs": [
    {
     "name": "stdout",
     "output_type": "stream",
     "text": [
      "Bagged 1 Accuracy: 0.6486666666666666\n",
      "Bagged 1 F1: 0.6402730375426621\n",
      "Bagged 2 Accuracy: 0.662\n",
      "Bagged 2 F1: 0.6714193130265717\n",
      "Bagged 3 Accuracy: 0.6146666666666667\n",
      "Bagged 3 F1: 0.6062670299727521\n",
      "Voting Accuracy: 0.6533333333333333\n",
      "Voting F1: 0.6481732070365358\n"
     ]
    }
   ],
   "source": [
    "# Celda 7\n",
    "model_1 = DTC(max_depth=3, random_state=0)\n",
    "bagged1 = BC(\n",
    "    base_estimator=model_1, \n",
    "    n_estimators=100, \n",
    "    random_state=0,\n",
    "    oob_score=True\n",
    ").fit(X_train, y_train)\n",
    "\n",
    "model_2 = DTC(min_samples_leaf=5, random_state=0)\n",
    "bagged2 = BC(\n",
    "    base_estimator=model_2, \n",
    "    n_estimators=100, \n",
    "    random_state=0,\n",
    "    oob_score=True\n",
    ").fit(X_train, y_train)\n",
    "\n",
    "model_3 = LR()\n",
    "bagged3 = BC(\n",
    "    base_estimator=model_3,\n",
    "    n_estimators=100, \n",
    "    random_state=0,\n",
    "    oob_score=True\n",
    ").fit(X_train, y_train)\n",
    "\n",
    "voting = VC(\n",
    "    estimators=[('dt1', bagged1), ('dt2', bagged2), ('logr', bagged3)],\n",
    "    voting='hard'\n",
    ").fit(X_train, y_train)\n",
    "\n",
    "print(\"Bagged 1 Accuracy:\", bagged1.score(X_test, y_test))\n",
    "print(\"Bagged 1 F1:\", f1_score(y_test, bagged1.predict(X_test)))\n",
    "\n",
    "print(\"Bagged 2 Accuracy:\", bagged2.score(X_test, y_test))\n",
    "print(\"Bagged 2 F1:\", f1_score(y_test, bagged2.predict(X_test)))\n",
    "\n",
    "print(\"Bagged 3 Accuracy:\", bagged3.score(X_test, y_test))\n",
    "print(\"Bagged 3 F1:\", f1_score(y_test, bagged3.predict(X_test)))\n",
    "\n",
    "print(\"Voting Accuracy:\", voting.score(X_test, y_test))\n",
    "print(\"Voting F1:\", f1_score(y_test, voting.predict(X_test)))"
   ]
  },
  {
   "cell_type": "markdown",
   "metadata": {},
   "source": [
    "### Punto 8 - Votación Ponderada\n",
    "En la celda 8 elabore un ensamble con la metodología de **Votación ponderada** compuesto por 300 muestras bagged para los mismos tres escenarios del punto 7. Evalúe los modelos utilizando las métricas de Accuracy y F1-Score"
   ]
  },
  {
   "cell_type": "code",
   "execution_count": 56,
   "metadata": {
    "ExecuteTime": {
     "end_time": "2024-04-08T07:37:08.491939Z",
     "start_time": "2024-04-08T07:36:55.979353Z"
    }
   },
   "outputs": [
    {
     "name": "stdout",
     "output_type": "stream",
     "text": [
      "Voting Accuracy: 0.6586666666666666\n",
      "Voting F1: 0.6604774535809018\n"
     ]
    }
   ],
   "source": [
    "# Celda 8\n",
    "err1 = bagged1.oob_score_\n",
    "alpha1 = 1/err1\n",
    "\n",
    "err2 = bagged2.oob_score_\n",
    "alpha2 = 1/err2\n",
    "\n",
    "err3 = bagged3.oob_score_\n",
    "alpha3 = 1/err3\n",
    "\n",
    "voting_wg = VC(\n",
    "    estimators=[('dt', bagged1), ('dt2', bagged2), ('lr', bagged3)],\n",
    "    voting='soft',\n",
    "    weights=[alpha1, alpha2, alpha3]\n",
    ").fit(X_train, y_train)\n",
    "\n",
    "print(\"Voting Accuracy:\", voting_wg.score(X_test, y_test))\n",
    "print(\"Voting F1:\", f1_score(y_test, voting_wg.predict(X_test)))"
   ]
  },
  {
   "cell_type": "markdown",
   "metadata": {},
   "source": [
    "### Punto 9 - Comparación y análisis de resultados\n",
    "En la celda 9 comente sobre los resultados obtenidos con las metodologías usadas en los puntos 7 y 8, compare los resultados y enuncie posibles ventajas o desventajas de cada una de ellas."
   ]
  },
  {
   "cell_type": "markdown",
   "source": [
    "# Celda 9\n",
    "Ensamble con Votación Mayoritaria:\n",
    "- Accuracy: 0.6533\n",
    "- F1-Score: 0.6482\n",
    "Ensamble con Votación Ponderada:\n",
    "- Accuracy: 0.6586\n",
    "- F1-Score: 0.6605\n",
    "\n",
    "Votación Mayoritaria:\n",
    "\n",
    "Ventajas:\n",
    "- Es más simple de implementar y entender, ya que simplemente se toma la clase predicha por la mayoría de los modelos.\n",
    "Desventajas:\n",
    "- Puede ignorar diferencias en la calidad de los modelos, ya que todos los modelos tienen el mismo peso en la votación.\n",
    "\n",
    "Votación Ponderada:\n",
    "\n",
    "Ventajas:\n",
    "- Permite asignar diferentes pesos a cada modelo en función de su confianza o desempeño, lo que puede mejorar la \n",
    "precisión del ensamble.\n",
    "Desventajas:\n",
    "- Requiere calcular y ajustar los pesos para cada modelo, lo que puede ser más complejo y costoso computacionalmente."
   ],
   "metadata": {
    "collapsed": false
   }
  }
 ],
 "metadata": {
  "kernelspec": {
   "display_name": "Python 3 (ipykernel)",
   "language": "python",
   "name": "python3"
  },
  "language_info": {
   "codemirror_mode": {
    "name": "ipython",
    "version": 3
   },
   "file_extension": ".py",
   "mimetype": "text/x-python",
   "name": "python",
   "nbconvert_exporter": "python",
   "pygments_lexer": "ipython3",
   "version": "3.9.12"
  }
 },
 "nbformat": 4,
 "nbformat_minor": 4
}
